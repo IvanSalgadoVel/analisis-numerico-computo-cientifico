{
 "cells": [
  {
   "cell_type": "markdown",
   "metadata": {},
   "source": [
    "(DGTGRAFO)="
   ]
  },
  {
   "cell_type": "markdown",
   "metadata": {},
   "source": [
    "# 4.1 Definiciones generales de flujo en redes y teoría de grafos"
   ]
  },
  {
   "cell_type": "markdown",
   "metadata": {},
   "source": [
    "```{admonition} Notas para contenedor de docker:\n",
    "\n",
    "Comando de docker para ejecución de la nota de forma local:\n",
    "\n",
    "nota: cambiar `<ruta a mi directorio>` por la ruta de directorio que se desea mapear a `/datos` dentro del contenedor de docker.\n",
    "\n",
    "`docker run --rm -v <ruta a mi directorio>:/datos --name jupyterlab_optimizacion -p 8888:8888 -d palmoreck/jupyterlab_optimizacion:2.1.4`\n",
    "\n",
    "password para jupyterlab: `qwerty`\n",
    "\n",
    "Detener el contenedor de docker:\n",
    "\n",
    "`docker stop jupyterlab_optimizacion`\n",
    "\n",
    "Documentación de la imagen de docker `palmoreck/jupyterlab_optimizacion:2.1.4` en [liga](https://github.com/palmoreck/dockerfiles/tree/master/jupyterlab/optimizacion).\n",
    "\n",
    "```"
   ]
  },
  {
   "cell_type": "markdown",
   "metadata": {},
   "source": [
    "---"
   ]
  },
  {
   "cell_type": "markdown",
   "metadata": {},
   "source": [
    "Nota generada a partir de "
   ]
  },
  {
   "cell_type": "markdown",
   "metadata": {},
   "source": [
    "```{admonition} Al final de esta nota el y la lectora:\n",
    ":class: tip\n",
    "\n",
    "* Tendrá una lista de definiciones de flujo en redes y teoría de grafos.\n",
    "\n",
    "\n",
    "```"
   ]
  },
  {
   "cell_type": "markdown",
   "metadata": {},
   "source": [
    "```{sidebar} Un poco de historia ...\n",
    "\n",
    "El área de [investigación de operaciones](https://en.wikipedia.org/wiki/Operations_research) tuvo un gran desarrollo entre los años 40's y 50's principalmente para resolver la asignación de recursos disponibles en actividades militares (de hecho el nombre hace referencia a operaciones militares). Métodos como el [símplex](https://en.wikipedia.org/wiki/Simplex_algorithm) de Dantzig fueron desarrollados en esta época y establecieron triunfos importantes del lado de Estados Unidos y Gran Bretaña en batallas militares. Posterior a la segunda guerra mundial la complejidad de la división del trabajo y organización en empresas plantearon problemas en esencia iguales que los que se debían resolver en las guerras.\n",
    "Esta área resuelve problemáticas como son las relacionadas con la conducción y coordinación de actividades en una organización. La investigación de operaciones ha sido aplicada de manera extensa en manufactura, transporte, construcción, telecomunicaciones, planeación financiera, cuidado de la salud, fuerzas armadas y servicios públicos, entre otros.\n",
    "```"
   ]
  },
  {
   "cell_type": "markdown",
   "metadata": {},
   "source": [
    "Muchas aplicaciones en el área de investigación de operaciones ayudan a modelar y resolver situaciones en forma de una red de nodos conectados como las siguientes:\n",
    "\n",
    "1. Diseño de una tubería en una zona para conectar las locaciones de suministro de cierto producto con puntos de descarga del mismo con el objetivo de minimizar el costo de construír tal tubería. \n",
    "   Diseño de un cableado de telefonía subterránea para establecer la comunicación entre cualquier par de domicilios de personas con el objetivo de minimizar la cantidad de kilómetros que se usarán de cable.\n",
    "\n",
    "2. Determinar la ruta más corta entre dos ciudades en una red de transporte que involucra más de dos ciudades.\n",
    "\n",
    "3. Determinar la capacidad máxima de cierta sustancia que puede soportar una tubería que conecta dos o más plantas de suministro. \n",
    "   Determinar la asignación de personas en tranvías para llegar a destinos mediante varias rutas en un parque de diversiones de modo que se maximice el número total de viajes que se pueden hacer al día por diferentes rutas, las cuales tienen cierto límite de viajes en cada ruta.\n",
    "\n",
    "4. Determinar la agenda y planeación de actividades incluyendo fechas de inicio y término de un proyecto.\n",
    "\n",
    "5. Determinar la distribución de flujo con costo mínimo de campos de petróleo hacia refinerías a través de una red de tuberías."
   ]
  },
  {
   "cell_type": "markdown",
   "metadata": {},
   "source": [
    "## Problemas/Modelos de flujo en redes, *aka network flow problems/models*, estándar"
   ]
  },
  {
   "cell_type": "markdown",
   "metadata": {},
   "source": [
    "Un buen número de problemas de optimización de redes son en realidad tipos especiales de problemas de programación lineal, por ejemplo el {ref}`problema de transporte <EJPROBTRANSPORTE>` en el que se resuelve cómo determinar la manera óptima de transportar bienes. Otro problema es el definido en un **problema de asignación** que incluye aplicaciones como la asignación de personas a tareas. Aunque los métodos clásicos del símplex o puntos interiores (ver {ref}`introducción a los métodos de puntos interiores <INTMETPIN>`) podrían utilizarse para resolver tales problemas, existen métodos especializados (como [network simplex](https://en.wikipedia.org/wiki/Network_simplex_algorithm) o dual simplex) aplicados a grafos o redes que modelan tales problemas y tienen un mejor desempeño que los clásicos."
   ]
  },
  {
   "cell_type": "markdown",
   "metadata": {},
   "source": [
    "Es típico encontrar en la literatura el estudio de tres preguntas básicas relacionadas con problemas específicos:\n",
    "\n",
    "1. **Problema del camino o ruta más corta**. ¿Cuál es la mejor manera para recorrer una red y llegar de un punto a otro de modo que sea lo más barato posible?\n",
    "\n",
    "2. **Problema de flujo máximo**. Si una red tiene capacidades en sus arcos ¿cómo podemos enviar la mayor cantidad de flujo posible entre dos puntos en la red manteniendo los límites de capacidades en sus arcos?\n",
    "\n",
    "3. **Problema del flujo con costo mínimo**. Si se incurre en un costo por unidad de flujo en una red con capacidades en sus arcos y necesitamos enviar unidades de un bien que residen en uno o más puntos en la red hacia uno o más puntos distintos en la misma ¿cómo podemos enviar tal material al mínimo costo posible?\n",
    "\n",
    "A los problemas anteriores los nombraremos como **problemas/modelos de flujo en redes o *network flow problems/models* estándar**."
   ]
  },
  {
   "cell_type": "markdown",
   "metadata": {},
   "source": [
    "```{admonition} Comentarios\n",
    "\n",
    "* La solución de los problemas estándar puede realizarse enumerando las posibles alternativas para cada problema, esto si bien resuelve las preguntas planteadas, no es práctico por la cantidad enorme de alternativas que resultarían. Por esto se requieren algoritmos cuyo tiempo de cómputo sea pequeño o al menos razonable. \n",
    "\n",
    "* Los problemas estándar han sido estudiados y descritos ampliamente en la literatura principalmente por ser modelos abstractos que han permitido el desarrollo de algoritmos para resolver problemas en aplicaciones que surgen en la práctica más compejos y que comparten similitudes con los estándar.\n",
    "\n",
    "```"
   ]
  },
  {
   "cell_type": "markdown",
   "metadata": {},
   "source": [
    "## Definiciones generales para grafos o flujo en redes"
   ]
  },
  {
   "cell_type": "markdown",
   "metadata": {},
   "source": [
    "La representación con grafos o redes las encontramos en muchas áreas como producción, distribución, planeación de proyectos, localización de instalaciones, administración de recursos y planeación financiera. Además, provee una visualización conceptual poderosa para mostrar las relaciones entre las componentes de sistemas científicos, sociales y económicos por mencionar algunos."
   ]
  },
  {
   "cell_type": "markdown",
   "metadata": {},
   "source": [
    "A continuación se presentan definiciones utilizadas en la literatura sobre flujo en redes y teoría de grafos."
   ]
  },
  {
   "cell_type": "markdown",
   "metadata": {},
   "source": [
    "```{admonition} Observación\n",
    ":class: tip\n",
    "\n",
    "El nombre de grafo o red se utiliza como sinónimos.\n",
    "\n",
    "```"
   ]
  },
  {
   "cell_type": "markdown",
   "metadata": {},
   "source": [
    "### Grafos o redes dirigidas"
   ]
  },
  {
   "cell_type": "markdown",
   "metadata": {},
   "source": [
    "```{admonition} Definición\n",
    "\n",
    "Un grafo o red dirigida $\\mathcal{G} = (N, A)$ consiste de un conjunto $N$ de nodos (vértices, puntos) y un conjunto $A$ de arcos (aristas, ramas, líneas) cuyos elementos son pares ordenados para nodos distintos.\n",
    "\n",
    "```"
   ]
  },
  {
   "cell_type": "markdown",
   "metadata": {},
   "source": [
    "**Ejemplo**"
   ]
  },
  {
   "cell_type": "markdown",
   "metadata": {},
   "source": [
    "El siguiente grafo dirigido tiene como nodos $N = \\{1, 2, 3, 4, 5, 6, 7\\}$ y arcos $A = \\{(1,2), (1,3), (2,3), (2,4), (3,6), (4,5), (4,7), (5,2), (5,3), (5,7), (6,7) \\}$."
   ]
  },
  {
   "cell_type": "code",
   "execution_count": null,
   "metadata": {
    "tags": [
     "margin"
    ]
   },
   "outputs": [],
   "source": [
    "!pip install --user --quiet networkx"
   ]
  },
  {
   "cell_type": "code",
   "execution_count": 1,
   "metadata": {},
   "outputs": [],
   "source": [
    "import matplotlib.pyplot as plt\n",
    "import networkx as nx"
   ]
  },
  {
   "cell_type": "code",
   "execution_count": 2,
   "metadata": {
    "tags": [
     "hide-input"
    ]
   },
   "outputs": [
    {
     "data": {
      "image/png": "[encoded data removed]",
      "text/plain": [
       "<Figure size 432x288 with 1 Axes>"
      ]
     },
     "metadata": {},
     "output_type": "display_data"
    }
   ],
   "source": [
    "nodes_pos = [[0.09090909090909091, 0.4545454545454546],\n",
    "             [0.36363636363636365, 0.18181818181818182],\n",
    "             [0.36363636363636365, 0.7272727272727273],\n",
    "             [0.6363636363636364,  0.7272727272727273],\n",
    "             [0.9090909090909092,  0.4545454545454546],\n",
    "             [0.6363636363636364,  0.18181818181818182],\n",
    "             [0.6363636363636364,  0.4545454545454546]]\n",
    "nodes = range(len(nodes_pos))\n",
    "G0_ex_1 = nx.DiGraph() \n",
    "G0_ex_1.add_nodes_from(nodes)\n",
    "mapping = {0: 0,\n",
    "           1: 2,\n",
    "           2: 1,\n",
    "           3: 3,\n",
    "           4: 6,\n",
    "           5: 5,\n",
    "           6: 4} \n",
    "G_ex_1 = nx.relabel_nodes(G0_ex_1, mapping)\n",
    "pos = {}\n",
    "for idx in mapping.keys():\n",
    "    pos[mapping[idx]] = nodes_pos[idx]\n",
    "G_ex_1.add_edge(0,1)\n",
    "G_ex_1.add_edge(0,2)\n",
    "G_ex_1.add_edge(1,2)\n",
    "G_ex_1.add_edge(1,3)\n",
    "G_ex_1.add_edge(2,5)\n",
    "G_ex_1.add_edge(3,4)\n",
    "G_ex_1.add_edge(3,6)\n",
    "G_ex_1.add_edge(4,1)\n",
    "G_ex_1.add_edge(4,2)\n",
    "G_ex_1.add_edge(4,6)\n",
    "G_ex_1.add_edge(5,6)\n",
    "nx.draw(G_ex_1, pos = pos,\n",
    "        with_labels = True,\n",
    "        node_color='r', node_size=1000,alpha=0.5)\n",
    "plt.show()"
   ]
  },
  {
   "cell_type": "markdown",
   "metadata": {},
   "source": [
    "### Grafos o redes no dirigidas"
   ]
  },
  {
   "cell_type": "markdown",
   "metadata": {},
   "source": [
    "```{admonition} Definición\n",
    "\n",
    "Se define un grafo o red no dirigida al igual que el caso dirigido considerando que los arcos son pares no ordenados de nodos distintos. En un grafo no dirigido podemos referirnos al arco que une al par de nodos $i$ y $j$ como $(i,j)$ o $(j,i)$ indistintamente. \n",
    "\n",
    "```"
   ]
  },
  {
   "cell_type": "markdown",
   "metadata": {},
   "source": [
    "```{admonition} Observación\n",
    ":class: tip\n",
    "\n",
    "La interpretación de un arco $(i,j)$ no dirigido se interpreta indicando que el flujo se permite en ambas direcciones, de $i$ a $j$ o $j$ a $i$. En el dirigido sólo una dirección es permitida.\n",
    "\n",
    "```"
   ]
  },
  {
   "cell_type": "markdown",
   "metadata": {},
   "source": [
    "**Ejemplo**"
   ]
  },
  {
   "cell_type": "markdown",
   "metadata": {},
   "source": [
    "El siguiente grafo no dirigido tiene como nodos $N = \\{1, 2, 3, 4, 5, 6\\}$ y  arcos $A = \\{(2,1), (1,3), (4,2), (2,5), (4,3), (3,5), (5,6), (6,4) \\}$:"
   ]
  },
  {
   "cell_type": "code",
   "execution_count": 3,
   "metadata": {
    "tags": [
     "hide-input"
    ]
   },
   "outputs": [
    {
     "data": {
      "image/png": "[encoded data removed]",
      "text/plain": [
       "<Figure size 648x504 with 1 Axes>"
      ]
     },
     "metadata": {},
     "output_type": "display_data"
    }
   ],
   "source": [
    "nodes_pos = [[0.09090909090909091, 0.5454545454545454],\n",
    "             [0.2727272727272727, 0.7272727272727273],\n",
    "             [0.2727272727272727, 0.2727272727272727],\n",
    "             [0.5454545454545454, 0.2727272727272727],\n",
    "             [0.8181818181818182, 0.5454545454545454],\n",
    "             [0.5454545454545454, 0.7272727272727273]]\n",
    "nodes = range(len(nodes_pos))\n",
    "G0_ex_2 = nx.Graph() \n",
    "G0_ex_2.add_nodes_from(nodes)\n",
    "mapping = {0: 0,\n",
    "           1: 1,\n",
    "           2: 2,\n",
    "           3: 4,\n",
    "           4: 5,\n",
    "           5: 3} \n",
    "G_ex_2 = nx.relabel_nodes(G0_ex_2, mapping)\n",
    "pos = {}\n",
    "for idx in mapping.keys():\n",
    "    pos[mapping[idx]] = nodes_pos[idx]\n",
    "edge_labels = {(0,1): 4.7,\n",
    "               (0,2): 1.5,\n",
    "               (1,3): -1.3,\n",
    "               (1,4): 3.2,\n",
    "               (2,3): -0.8,\n",
    "               (2,4): 9.4,\n",
    "               (3,5): 1.2,\n",
    "               (4,5): -0.4\n",
    "              }    \n",
    "G_ex_2.add_edges_from(edge_labels)\n",
    "for e in G_ex_2.edges():\n",
    "    try:\n",
    "        G_ex_2[e[0]][e[1]][\"weight\"] = edge_labels[e]\n",
    "    except:\n",
    "        G_ex_2[e[1]][e[0]][\"weight\"] = edge_labels[(e[1],e[0])]\n",
    "plt.figure(figsize=(9,7))\n",
    "nx.draw_networkx_edges(G_ex_2, pos = pos, alpha = 0.3, min_source_margin=8, min_target_margin=8)\n",
    "nx.draw_networkx_edge_labels(G_ex_2, pos = pos, edge_labels = edge_labels,\n",
    "                             font_size=15)\n",
    "nx.draw_networkx_labels(G_ex_2, pos = pos)\n",
    "nx.draw_networkx_nodes(G_ex_2, pos = pos, node_size=1000, alpha=0.6)\n",
    "plt.axis(\"off\")\n",
    "plt.show()        "
   ]
  },
  {
   "cell_type": "markdown",
   "metadata": {},
   "source": [
    "El grafo anterior tiene arcos con valores numéricos asociados que ayudan a representar típicamente costos, capacidades y/o suministro o demanda. "
   ]
  },
  {
   "cell_type": "markdown",
   "metadata": {},
   "source": [
    "```{admonition} Definición\n",
    "\n",
    "En la terminología de flujo en redes la capacidad de un arco es la cantidad máxima de flujo que puede circular en el mismo.\n",
    "\n",
    "```"
   ]
  },
  {
   "cell_type": "markdown",
   "metadata": {},
   "source": [
    "```{admonition} Comentarios\n",
    "\n",
    "* Los arcos en un grafo no dirigido en ocasiones se les nombra ligaduras.\n",
    "\n",
    "* Un grafo no dirigido puede convertirse en un grafo dirigido sustituyendo las ligaduras por dos arcos en direcciones opuestas entre el par de nodos involucrados. La interpretación en este caso puede ser un \"flujo neto\" entre ambos nodos. Por lo anterior las definiciones también son aplicables a grafos no dirigidos por lo que las definiciones asumen que se tiene un grafo dirigido.\n",
    "\n",
    "```"
   ]
  },
  {
   "cell_type": "markdown",
   "metadata": {},
   "source": [
    "### Adyacencia"
   ]
  },
  {
   "cell_type": "markdown",
   "metadata": {},
   "source": [
    "```{admonition} Definición\n",
    "\n",
    "Si existe un arco $(i,j) \\in A$ entonces el nodo $j$ es adyacente al nodo $i$.\n",
    "\n",
    "```"
   ]
  },
  {
   "cell_type": "code",
   "execution_count": null,
   "metadata": {},
   "outputs": [],
   "source": []
  },
  {
   "cell_type": "code",
   "execution_count": null,
   "metadata": {},
   "outputs": [],
   "source": []
  },
  {
   "cell_type": "markdown",
   "metadata": {},
   "source": [
    "**Referencias:**\n",
    "\n",
    "1. F. Hillier, G. Lieberman, Introduction to Operations Research, Mc Graw Hill, 2014.\n",
    "\n",
    "2. R. K. Ahuja, T. L. Magnanti, J. B. Orlin, Network Flows, Theory, Algorithms and Applications, Prentice Hall, 1993.\n",
    "\n",
    "1. M. S. Bazaraa, J. J. Jarvis, H. D. Sherali, Linear Programming and Network Flows, Wiley, 2010.\n",
    "\n",
    "\n",
    "\n"
   ]
  }
 ],
 "metadata": {
  "kernelspec": {
   "display_name": "Python 3",
   "language": "python",
   "name": "python3"
  },
  "language_info": {
   "codemirror_mode": {
    "name": "ipython",
    "version": 3
   },
   "file_extension": ".py",
   "mimetype": "text/x-python",
   "name": "python",
   "nbconvert_exporter": "python",
   "pygments_lexer": "ipython3",
   "version": "3.7.3"
  }
 },
 "nbformat": 4,
 "nbformat_minor": 4
}
